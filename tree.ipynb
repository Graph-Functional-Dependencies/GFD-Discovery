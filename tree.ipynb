{
 "metadata": {
  "language_info": {
   "codemirror_mode": {
    "name": "ipython",
    "version": 3
   },
   "file_extension": ".py",
   "mimetype": "text/x-python",
   "name": "python",
   "nbconvert_exporter": "python",
   "pygments_lexer": "ipython3",
   "version": "3.7.4-final"
  },
  "orig_nbformat": 2,
  "kernelspec": {
   "name": "python3",
   "display_name": "Python 3.7.4 64-bit (conda)",
   "metadata": {
    "interpreter": {
     "hash": "4905652b14e4b7eb92899b78ac499a22c488804455b27940a322fd82aaf71031"
    }
   }
  }
 },
 "nbformat": 4,
 "nbformat_minor": 2,
 "cells": [
  {
   "cell_type": "code",
   "execution_count": 20,
   "metadata": {},
   "outputs": [
    {
     "output_type": "stream",
     "name": "stdout",
     "text": [
      "Root\n\n"
     ]
    }
   ],
   "source": [
    "from treelib import Tree, Node\n",
    "# 初始化T（无节点）\n",
    "tree = Tree()\n",
    "# 新增根节点，id为'root'\n",
    "tree.create_node(tag='Root', identifier='root')\n",
    "tree.show()"
   ]
  },
  {
   "cell_type": "code",
   "execution_count": 21,
   "metadata": {},
   "outputs": [
    {
     "output_type": "stream",
     "name": "stdout",
     "text": [
      "Root\n└── Node-5\n\n5\n"
     ]
    }
   ],
   "source": [
    "# 向T中新增一个节点, 父节点为root, 子节点数据为data\n",
    "tree.create_node(tag='Node-5', identifier='node-5', parent='root', data=5)\n",
    "tree.show()\n",
    "# 根据节点id来获取节点对象\n",
    "node_5 = tree.get_node('node-5')\n",
    "# # 获取节点的数据\n",
    "print(node_5.data)"
   ]
  },
  {
   "source": [
    "# 向T中新增一个节点, 父节点为'root', 子节点数据为10\n",
    "tree.create_node(tag='Node-10', identifier='node-10', parent='root', data=10)\n",
    "tree.create_node(tag='Node-15', identifier='node-15', parent='node-5', data=15)\n",
    "tree.create_node(tag='Node-20', identifier='node-20', parent='node-10', data=20)\n",
    "tree.show()\n",
    "nodeList1 = []\n",
    "# tree.filter_nodes(func f) retuens a filter iterator of the node\n",
    "# 通过筛选函数f，可得到第i层的全部节\n",
    "for node in tree.filter_nodes(lambda x:tree.depth(x)==1):\n",
    "    nodeList1.append(node)\n",
    "print(nodeList1)\n",
    "nodeList2 = []\n",
    "for node in tree.filter_nodes(lambda x:tree.depth(x)==2):\n",
    "    nodeList2.append(node)\n",
    "print(nodeList2)"
   ],
   "cell_type": "code",
   "metadata": {},
   "execution_count": 22,
   "outputs": [
    {
     "output_type": "stream",
     "name": "stdout",
     "text": [
      "Root\n├── Node-10\n│   └── Node-20\n└── Node-5\n    └── Node-15\n\n[Node(tag=Node-5, identifier=node-5, data=5), Node(tag=Node-10, identifier=node-10, data=10)]\n[Node(tag=Node-15, identifier=node-15, data=15), Node(tag=Node-20, identifier=node-20, data=20)]\n"
     ]
    }
   ]
  },
  {
   "cell_type": "code",
   "execution_count": 23,
   "metadata": {},
   "outputs": [
    {
     "output_type": "stream",
     "name": "stdout",
     "text": [
      "Root\n└── Node-5\n    └── Node-15\n\nRoot\n└── Node-15\n\n"
     ]
    }
   ],
   "source": [
    "# 从T中删除以某个节点为根节点的子树，返回值是删掉的节点总数\n",
    "tree.remove_node('node-10')\n",
    "tree.show()\n",
    "# link_past_node(nid): 传入节点id，将该节点的所有子节点都链接到它的父节点上，相当于将该节点从树中删除。如果节点id不在树中则报错。\n",
    "tree.link_past_node('node-5')\n",
    "tree.show()"
   ]
  },
  {
   "cell_type": "code",
   "execution_count": 24,
   "metadata": {},
   "outputs": [
    {
     "output_type": "stream",
     "name": "stdout",
     "text": [
      "Root\n├── Node-15\n│   ├── Node-30\n│   ├── Node-35\n│   │   ├── Node-40\n│   │   └── Node-45\n│   └── Node-50\n└── Node-25\n\n[Node(tag=Node-30, identifier=node-30, data=30), Node(tag=Node-40, identifier=node-40, data=40), Node(tag=Node-45, identifier=node-45, data=45), Node(tag=Node-50, identifier=node-50, data=50)]\n"
     ]
    }
   ],
   "source": [
    "tree.create_node(tag='Node-25',identifier='node-25',parent='root',data=25)\n",
    "tree.create_node(tag='Node-30',identifier='node-30',parent='node-15',data=30)\n",
    "tree.create_node(tag='Node-35',identifier='node-35',parent='node-15',data=35)\n",
    "tree.create_node(tag='Node-40',identifier='node-40',parent='node-35',data=40)\n",
    "tree.create_node(tag='Node-45',identifier='node-45',parent='node-35',data=45)\n",
    "tree.create_node(tag='Node-50',identifier='node-50',parent='node-15',data=50)\n",
    "tree.show()\n",
    "nodeList3 = []\n",
    "# 获取T的所有不在第1层的叶节点,同样使用筛选函数来实现\n",
    "for node in tree.filter_nodes(lambda x:tree.depth(x)!=1 and x.is_leaf()):\n",
    "    nodeList3.append(node)\n",
    "print(nodeList3)"
   ]
  },
  {
   "cell_type": "code",
   "execution_count": 26,
   "metadata": {},
   "outputs": [
    {
     "output_type": "stream",
     "name": "stdout",
     "text": [
      "Root\n├── Red-flower\n└── White-flower\n\nblack\n├── red\n└── white\n\n"
     ]
    }
   ],
   "source": [
    "# TreeLib也支持存储自定义类型，例如自定义“Flower”\n",
    "class Flower(object): \n",
    "    def __init__(self, color, year): \n",
    "        self.color = color\n",
    "        self.year = year\n",
    "# create a flower tree \n",
    "ftree = Tree()\n",
    "# 依靠data来存储\n",
    "ftree.create_node(\"Root\", \"root\", data=Flower(\"black\", 100))\n",
    "white_flower = Flower(\"white\", 200)\n",
    "red_flower = Flower(\"red\", 300)\n",
    "ftree.create_node(\"White-flower\", \"white-flower\", parent='root', data=white_flower)\n",
    "ftree.create_node(\"Red-flower\", \"red-flower\", parent='root', data=red_flower)\n",
    "\n",
    "ftree.show()\n",
    "ftree.show(data_property = \"color\")"
   ]
  },
  {
   "cell_type": "code",
   "execution_count": null,
   "metadata": {},
   "outputs": [],
   "source": []
  }
 ]
}