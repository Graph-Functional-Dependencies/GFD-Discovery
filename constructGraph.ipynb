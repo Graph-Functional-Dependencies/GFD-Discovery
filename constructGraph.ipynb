{
 "metadata": {
  "language_info": {
   "codemirror_mode": {
    "name": "ipython",
    "version": 3
   },
   "file_extension": ".py",
   "mimetype": "text/x-python",
   "name": "python",
   "nbconvert_exporter": "python",
   "pygments_lexer": "ipython3",
   "version": "3.7.4-final"
  },
  "orig_nbformat": 2,
  "kernelspec": {
   "name": "python3",
   "display_name": "Python 3.7.4 64-bit (conda)",
   "metadata": {
    "interpreter": {
     "hash": "4905652b14e4b7eb92899b78ac499a22c488804455b27940a322fd82aaf71031"
    }
   }
  }
 },
 "nbformat": 4,
 "nbformat_minor": 2,
 "cells": [
  {
   "cell_type": "code",
   "execution_count": 2,
   "metadata": {},
   "outputs": [
    {
     "output_type": "stream",
     "name": "stdout",
     "text": [
      "    nodeID nodeType\n0        1  product\n1        2   people\n2        3   people\n3        4  product\n4        5    prize\n5        6   people\n6        7  product\n7        8   people\n8        9     book\n9       10      cat\n10      11   people\n11      12     book\n    edgeID  sourceID  targetID edgeType\n0        1         2         1   create\n1        2         2        10     keep\n2        3         2         3    trust\n3        4         3         2    trust\n4        5         3         4   create\n5        6         3         9    write\n6        7        10         3   attack\n7        8         4         5      win\n8        9        11        10     like\n9       10         9        11  attract\n10      11        11         9     like\n11      12         6         5      win\n12      13        11         6   father\n13      14         6        11      son\n14      15        11        12    write\n15      16         6         7   create\n16      17        12         6  attract\n17      18         7         8     help\n"
     ]
    }
   ],
   "source": [
    "import Graph as gh\n",
    "import pandas as pd\n",
    "\n",
    "nodeData = pd.read_csv('dataset/diy/node.csv')\n",
    "edgeData = pd.read_csv('dataset/diy/edge.csv')\n",
    "print(nodeData)\n",
    "print(edgeData)"
   ]
  },
  {
   "cell_type": "code",
   "execution_count": 3,
   "metadata": {
    "tags": []
   },
   "outputs": [
    {
     "output_type": "stream",
     "name": "stdout",
     "text": [
      "[1 product, 2 people, 3 people, 4 product, 5 prize, 6 people, 7 product, 8 people, 9 book, 10 cat, 11 people, 12 book]\n['create', 'keep', 'trust', 'write', 'attack', 'win', 'like', 'attract', 'father', 'son', 'help']\n['product', 'people', 'prize', 'book', 'cat']\n"
     ]
    }
   ],
   "source": [
    "g = gh.Graph()\n",
    "for i in range(nodeData.shape[0]):\n",
    "    row = nodeData.loc[i]\n",
    "    g.add_node(row['nodeType'])\n",
    "for i in range(edgeData.shape[0]):\n",
    "    row = edgeData.loc[i]\n",
    "    g.add_edge(row['sourceID'],row['targetID'],row['edgeType'])\n",
    "print(g.nodes)\n",
    "print(g.relations)\n",
    "print(g.types)"
   ]
  },
  {
   "cell_type": "code",
   "execution_count": null,
   "metadata": {},
   "outputs": [],
   "source": []
  }
 ]
}