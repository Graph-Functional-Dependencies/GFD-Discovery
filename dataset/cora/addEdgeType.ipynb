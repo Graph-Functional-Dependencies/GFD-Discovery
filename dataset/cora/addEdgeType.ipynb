{
 "metadata": {
  "language_info": {
   "codemirror_mode": {
    "name": "ipython",
    "version": 3
   },
   "file_extension": ".py",
   "mimetype": "text/x-python",
   "name": "python",
   "nbconvert_exporter": "python",
   "pygments_lexer": "ipython3",
   "version": "3.7.4-final"
  },
  "orig_nbformat": 2,
  "kernelspec": {
   "name": "python3",
   "display_name": "Python 3.7.4 64-bit (conda)",
   "metadata": {
    "interpreter": {
     "hash": "4905652b14e4b7eb92899b78ac499a22c488804455b27940a322fd82aaf71031"
    }
   }
  }
 },
 "nbformat": 4,
 "nbformat_minor": 2,
 "cells": [
  {
   "cell_type": "code",
   "execution_count": 6,
   "metadata": {},
   "outputs": [
    {
     "output_type": "stream",
     "name": "stdout",
     "text": [
      "      sourceID  targetID edgeType\n0           35      1033    type0\n1           35    103482    type0\n2           35    103515    type0\n3           35   1050679    type0\n4           35   1103960    type0\n...        ...       ...      ...\n5424    853116     19621    type0\n5425    853116    853155    type0\n5426    853118   1140289    type0\n5427    853155    853118    type0\n5428    954315   1155073    type0\n\n[5429 rows x 3 columns]\n"
     ]
    }
   ],
   "source": [
    "import pandas as pd\n",
    "import numpy as np\n",
    "\n",
    "data = pd.read_csv(\"edge.csv\")\n",
    "print(data)"
   ]
  },
  {
   "cell_type": "code",
   "execution_count": 16,
   "metadata": {},
   "outputs": [
    {
     "output_type": "execute_result",
     "data": {
      "text/plain": [
       "      sourceID  targetID edgeType\n",
       "1978     14428   1103969    type0\n",
       "2796     33412    211875    type0\n",
       "2359     22563   1121459    type0\n",
       "1820     12210     12182    type0\n",
       "2216     19621      6184    type0\n",
       "...        ...       ...      ...\n",
       "5339    688824   1133008    type0\n",
       "4225    141160   1109891    type0\n",
       "4821    341188    682666    type0\n",
       "4420    184157     95435    type0\n",
       "21          35   1128314    type0\n",
       "\n",
       "[5429 rows x 3 columns]"
      ],
      "text/html": "<div>\n<style scoped>\n    .dataframe tbody tr th:only-of-type {\n        vertical-align: middle;\n    }\n\n    .dataframe tbody tr th {\n        vertical-align: top;\n    }\n\n    .dataframe thead th {\n        text-align: right;\n    }\n</style>\n<table border=\"1\" class=\"dataframe\">\n  <thead>\n    <tr style=\"text-align: right;\">\n      <th></th>\n      <th>sourceID</th>\n      <th>targetID</th>\n      <th>edgeType</th>\n    </tr>\n  </thead>\n  <tbody>\n    <tr>\n      <td>1978</td>\n      <td>14428</td>\n      <td>1103969</td>\n      <td>type0</td>\n    </tr>\n    <tr>\n      <td>2796</td>\n      <td>33412</td>\n      <td>211875</td>\n      <td>type0</td>\n    </tr>\n    <tr>\n      <td>2359</td>\n      <td>22563</td>\n      <td>1121459</td>\n      <td>type0</td>\n    </tr>\n    <tr>\n      <td>1820</td>\n      <td>12210</td>\n      <td>12182</td>\n      <td>type0</td>\n    </tr>\n    <tr>\n      <td>2216</td>\n      <td>19621</td>\n      <td>6184</td>\n      <td>type0</td>\n    </tr>\n    <tr>\n      <td>...</td>\n      <td>...</td>\n      <td>...</td>\n      <td>...</td>\n    </tr>\n    <tr>\n      <td>5339</td>\n      <td>688824</td>\n      <td>1133008</td>\n      <td>type0</td>\n    </tr>\n    <tr>\n      <td>4225</td>\n      <td>141160</td>\n      <td>1109891</td>\n      <td>type0</td>\n    </tr>\n    <tr>\n      <td>4821</td>\n      <td>341188</td>\n      <td>682666</td>\n      <td>type0</td>\n    </tr>\n    <tr>\n      <td>4420</td>\n      <td>184157</td>\n      <td>95435</td>\n      <td>type0</td>\n    </tr>\n    <tr>\n      <td>21</td>\n      <td>35</td>\n      <td>1128314</td>\n      <td>type0</td>\n    </tr>\n  </tbody>\n</table>\n<p>5429 rows × 3 columns</p>\n</div>"
     },
     "metadata": {},
     "execution_count": 16
    }
   ],
   "source": [
    "df = df.sample(frac=1.0)\n",
    "df"
   ]
  },
  {
   "cell_type": "code",
   "execution_count": 17,
   "metadata": {},
   "outputs": [
    {
     "output_type": "execute_result",
     "data": {
      "text/plain": [
       "      sourceID  targetID edgeType\n",
       "0        14428   1103969    type0\n",
       "1        33412    211875    type0\n",
       "2        22563   1121459    type0\n",
       "3        12210     12182    type0\n",
       "4        19621      6184    type0\n",
       "...        ...       ...      ...\n",
       "5424    688824   1133008    type0\n",
       "5425    141160   1109891    type0\n",
       "5426    341188    682666    type0\n",
       "5427    184157     95435    type0\n",
       "5428        35   1128314    type0\n",
       "\n",
       "[5429 rows x 3 columns]"
      ],
      "text/html": "<div>\n<style scoped>\n    .dataframe tbody tr th:only-of-type {\n        vertical-align: middle;\n    }\n\n    .dataframe tbody tr th {\n        vertical-align: top;\n    }\n\n    .dataframe thead th {\n        text-align: right;\n    }\n</style>\n<table border=\"1\" class=\"dataframe\">\n  <thead>\n    <tr style=\"text-align: right;\">\n      <th></th>\n      <th>sourceID</th>\n      <th>targetID</th>\n      <th>edgeType</th>\n    </tr>\n  </thead>\n  <tbody>\n    <tr>\n      <td>0</td>\n      <td>14428</td>\n      <td>1103969</td>\n      <td>type0</td>\n    </tr>\n    <tr>\n      <td>1</td>\n      <td>33412</td>\n      <td>211875</td>\n      <td>type0</td>\n    </tr>\n    <tr>\n      <td>2</td>\n      <td>22563</td>\n      <td>1121459</td>\n      <td>type0</td>\n    </tr>\n    <tr>\n      <td>3</td>\n      <td>12210</td>\n      <td>12182</td>\n      <td>type0</td>\n    </tr>\n    <tr>\n      <td>4</td>\n      <td>19621</td>\n      <td>6184</td>\n      <td>type0</td>\n    </tr>\n    <tr>\n      <td>...</td>\n      <td>...</td>\n      <td>...</td>\n      <td>...</td>\n    </tr>\n    <tr>\n      <td>5424</td>\n      <td>688824</td>\n      <td>1133008</td>\n      <td>type0</td>\n    </tr>\n    <tr>\n      <td>5425</td>\n      <td>141160</td>\n      <td>1109891</td>\n      <td>type0</td>\n    </tr>\n    <tr>\n      <td>5426</td>\n      <td>341188</td>\n      <td>682666</td>\n      <td>type0</td>\n    </tr>\n    <tr>\n      <td>5427</td>\n      <td>184157</td>\n      <td>95435</td>\n      <td>type0</td>\n    </tr>\n    <tr>\n      <td>5428</td>\n      <td>35</td>\n      <td>1128314</td>\n      <td>type0</td>\n    </tr>\n  </tbody>\n</table>\n<p>5429 rows × 3 columns</p>\n</div>"
     },
     "metadata": {},
     "execution_count": 17
    }
   ],
   "source": [
    "df.reset_index(drop=True, inplace=True)\n",
    "df"
   ]
  },
  {
   "cell_type": "code",
   "execution_count": 24,
   "metadata": {},
   "outputs": [
    {
     "output_type": "execute_result",
     "data": {
      "text/plain": [
       "      sourceID  targetID edgeType\n",
       "0        14428   1103969    type1\n",
       "1        33412    211875    type1\n",
       "2        22563   1121459    type1\n",
       "3        12210     12182    type1\n",
       "4        19621      6184    type1\n",
       "...        ...       ...      ...\n",
       "5424    688824   1133008    type4\n",
       "5425    141160   1109891    type4\n",
       "5426    341188    682666    type4\n",
       "5427    184157     95435    type4\n",
       "5428        35   1128314    type4\n",
       "\n",
       "[5429 rows x 3 columns]"
      ],
      "text/html": "<div>\n<style scoped>\n    .dataframe tbody tr th:only-of-type {\n        vertical-align: middle;\n    }\n\n    .dataframe tbody tr th {\n        vertical-align: top;\n    }\n\n    .dataframe thead th {\n        text-align: right;\n    }\n</style>\n<table border=\"1\" class=\"dataframe\">\n  <thead>\n    <tr style=\"text-align: right;\">\n      <th></th>\n      <th>sourceID</th>\n      <th>targetID</th>\n      <th>edgeType</th>\n    </tr>\n  </thead>\n  <tbody>\n    <tr>\n      <td>0</td>\n      <td>14428</td>\n      <td>1103969</td>\n      <td>type1</td>\n    </tr>\n    <tr>\n      <td>1</td>\n      <td>33412</td>\n      <td>211875</td>\n      <td>type1</td>\n    </tr>\n    <tr>\n      <td>2</td>\n      <td>22563</td>\n      <td>1121459</td>\n      <td>type1</td>\n    </tr>\n    <tr>\n      <td>3</td>\n      <td>12210</td>\n      <td>12182</td>\n      <td>type1</td>\n    </tr>\n    <tr>\n      <td>4</td>\n      <td>19621</td>\n      <td>6184</td>\n      <td>type1</td>\n    </tr>\n    <tr>\n      <td>...</td>\n      <td>...</td>\n      <td>...</td>\n      <td>...</td>\n    </tr>\n    <tr>\n      <td>5424</td>\n      <td>688824</td>\n      <td>1133008</td>\n      <td>type4</td>\n    </tr>\n    <tr>\n      <td>5425</td>\n      <td>141160</td>\n      <td>1109891</td>\n      <td>type4</td>\n    </tr>\n    <tr>\n      <td>5426</td>\n      <td>341188</td>\n      <td>682666</td>\n      <td>type4</td>\n    </tr>\n    <tr>\n      <td>5427</td>\n      <td>184157</td>\n      <td>95435</td>\n      <td>type4</td>\n    </tr>\n    <tr>\n      <td>5428</td>\n      <td>35</td>\n      <td>1128314</td>\n      <td>type4</td>\n    </tr>\n  </tbody>\n</table>\n<p>5429 rows × 3 columns</p>\n</div>"
     },
     "metadata": {},
     "execution_count": 24
    }
   ],
   "source": [
    "# 1:2:3:4分别赋值为type1、type2、type3、type4\n",
    "df1 = df.loc[0:542]\n",
    "df1['edgeType']=\"type1\"\n",
    "df2 = df.loc[543:1628]\n",
    "df2['edgeType']=\"type2\"\n",
    "df3 = df.loc[1629:3256]\n",
    "df3['edgeType']=\"type3\"\n",
    "df4 = df.loc[3257:5428]\n",
    "df4['edgeType']=\"type4\"\n",
    "df.out_csv(\"out.csv\")\n"
   ]
  },
  {
   "cell_type": "code",
   "execution_count": null,
   "metadata": {},
   "outputs": [],
   "source": []
  }
 ]
}